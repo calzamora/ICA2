{
 "cells": [
  {
   "cell_type": "markdown",
   "metadata": {},
   "source": [
    "# ICA 2\n",
    "\n",
    "The goal of this exercise is to familiarize yourself with the resources provided by the NCBI Sequencing Read Archive (SRA), and Ensembl. You will retrieve genomic data from both repositories and use your existing skills to explore and summarize the information. Please turn in the ICA as a jupyter notebook. Thank you!\n",
    "\n",
    "### SRA\n",
    "\n",
    "1. Activate your bgmp conda environment and install sra-tools specifying the most recent version (conda install sra-tools). Now use fastq-dump to retrieve entries SRR849968 and SRR849828 from the SRA. Type `import sra-tools` to demonstrate the package works. For SRA Toolkit documentation, check out: https://trace.ncbi.nlm.nih.gov/Traces/sra/sra.cgi?view=toolkit_doc"
   ]
  },
  {
   "cell_type": "markdown",
   "metadata": {},
   "source": [
    "2. Count the number of sequences per file in python. If using, write your unix code and output as a comment. Also, take a few longer sequences (10 or so) and BLAST them (you can use the NCBI Blast web tool this time). Can you tell what type of data these are?"
   ]
  },
  {
   "cell_type": "markdown",
   "metadata": {},
   "source": [
    "### Ensembl\n",
    "\n",
    "1. Explore basic information on Ensembl for the following genomes: yeast, C. elegans, green spotted puffer (aka Tetraodon), and human. Download the protein sequence .fasta files for each. Do different isoforms appear to be included in each file?"
   ]
  },
  {
   "cell_type": "markdown",
   "metadata": {},
   "source": [
    "2. What is the density of annotated coding genes (number of genes per genome assembly megabase) for each genome? "
   ]
  },
  {
   "cell_type": "markdown",
   "metadata": {},
   "source": [
    "3. Visualize the distribution of protein lengths (including all isoforms when present), and apply it to each of the 4 .fasta.gz protein files. Use matplotlib."
   ]
  },
  {
   "cell_type": "markdown",
   "metadata": {},
   "source": [
    "### Database Exploration\n",
    "\n",
    "1. Visit https://ngdc.cncb.ac.cn/databasecommons/ and find two databases - one with more than 500 citations and one with less than 500 citations. Report the names of the databases."
   ]
  },
  {
   "cell_type": "markdown",
   "metadata": {},
   "source": [
    "2. Go to the database explanation card (for example https://ngdc.cncb.ac.cn/databasecommons/database/id/1802). For your specific examples, what kind of data is in this database? What countries are they from? How recently were they updated?"
   ]
  },
  {
   "cell_type": "markdown",
   "metadata": {},
   "source": [
    "3. Visit the databases. How trustworthy do they seem? How do you gauge trustworthiness/reliability of the data? "
   ]
  }
 ],
 "metadata": {
  "kernelspec": {
   "display_name": "Python 3 (ipykernel)",
   "language": "python",
   "name": "python3"
  },
  "language_info": {
   "codemirror_mode": {
    "name": "ipython",
    "version": 3
   },
   "file_extension": ".py",
   "mimetype": "text/x-python",
   "name": "python",
   "nbconvert_exporter": "python",
   "pygments_lexer": "ipython3",
   "version": "3.12.4"
  }
 },
 "nbformat": 4,
 "nbformat_minor": 4
}
