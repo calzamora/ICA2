{
 "cells": [
  {
   "cell_type": "markdown",
   "metadata": {},
   "source": [
    "# ICA 2\n",
    "\n",
    "The goal of this exercise is to familiarize yourself with the resources provided by the NCBI Sequencing Read Archive (SRA), and Ensembl. You will retrieve genomic data from both repositories and use your existing skills to explore and summarize the information. Please turn in the ICA as a jupyter notebook. Thank you!\n",
    "\n",
    "### SRA\n",
    "\n",
    "1. Activate your bgmp conda environment and install sra-tools specifying the most recent version (conda install sra-tools). Now use fastq-dump to retrieve entries SRR849968 and SRR849828 from the SRA. For SRA Toolkit documentation, check out: https://trace.ncbi.nlm.nih.gov/Traces/sra/sra.cgi?view=toolkit_doc"
   ]
  },
  {
   "cell_type": "markdown",
   "metadata": {},
   "source": [
    "2. Count the number of sequences per file in python. If using, write your unix code and output as a comment. Also, take a few longer sequences (10 or so) and BLAST them (you can use the NCBI Blast web tool this time). Can you tell what type of data these are?"
   ]
  },
  {
   "cell_type": "code",
   "execution_count": 8,
   "metadata": {},
   "outputs": [
    {
     "name": "stdout",
     "output_type": "stream",
     "text": [
      "Number of sequences in file ending in 828: 130034\n",
      "Number of sequences in file ending in 968: 57213\n"
     ]
    }
   ],
   "source": [
    "file_828 = \"SRR849828.fastq\"\n",
    "file_968 = \"SRR849968.fastq\"\n",
    "\n",
    "seq_counter_828 = 0\n",
    "seq_counter_968 = 0\n",
    "\n",
    "with open (file_828) as fh1:\n",
    "        #get total line number from file \n",
    "        for indexnum, contents in enumerate(fh1): #this asigns the index location to indexnum and the actual score to contents\n",
    "            # print(indexnum)\n",
    "            # print(contents)\n",
    "            if (indexnum)%4 == 1: # grab seq\n",
    "                seq_counter_828 +=1\n",
    "                # print(indexnum)\n",
    "                # print(contents)\n",
    "\n",
    "with open (file_968) as fh1:\n",
    "        #get total line number from file \n",
    "        for indexnum, contents in enumerate(fh1): #this asigns the index location to indexnum and the actual score to contents\n",
    "            # print(indexnum)\n",
    "            # print(contents)\n",
    "            if (indexnum)%4 == 1: # grab seq\n",
    "                seq_counter_968 +=1\n",
    "                # print(indexnum)\n",
    "                # print(contents)\n",
    "\n",
    "print(f\"Number of sequences in file ending in 828: {seq_counter_828}\")\n",
    "print(f\"Number of sequences in file ending in 968: {seq_counter_968}\")"
   ]
  },
  {
   "cell_type": "code",
   "execution_count": 12,
   "metadata": {},
   "outputs": [
    {
     "name": "stdout",
     "output_type": "stream",
     "text": [
      "first 10 seq of file 828:\n",
      "ATCATTCTGGAATGTGATTACCTTAGTACTGTA\n",
      "\n",
      "AAGCAGTGGTATCAACGCAGAGTGGCCATTACGGCCGG\n",
      "\n",
      "CATCAGCGGTGGCTTCTGTTCTGGATGCACTGCAGTATGTCTGCTCC\n",
      "\n",
      "AAGCAGTGGTATCAACGCAGAGTGGCCATTACGGCCGGNGG\n",
      "\n",
      "AGGAGGATGATGTCAGACAATATGTTGTGAGGAGACCNCNC\n",
      "\n",
      "CGGCCGGAGTGTTGCCTCACTTACTGCTTCAATAAGCCTGAGGACAAGTAGGCACACGGACGTTCATAAACT\n",
      "\n",
      "AAGCAGTGGTATCAACGCAGAGTGGCCATTACGGCCGG\n",
      "\n",
      "AGTGGCTGTTGTAAGAGATGCTATGCTCTACACTGAAT\n",
      "\n",
      "TATGCAGGAAGTACGGTTGAACGGTACTATTTGGACATTTCCTCCACAAGGCACACAGGGGATAG\n",
      "\n",
      "AAGTTCTTGACTTCAGAGCCGCACAGCCAGACACTCG\n",
      "\n",
      "first 10 seq of file 968:\n",
      "AGCAGTGGTATCAACGCAGAGTGGCCATTACGGCCGG\n",
      "\n",
      "CGGCCGGCATGCTCAATTGGTATTGTGGGGACAAATATTCAACG\n",
      "\n",
      "AAGCAGTGGTATCAACGCAGAGTGGTCATTACGGCCGGATCAATTCTACAAAAGAAACAAACAATGT\n",
      "\n",
      "AGCAGTGGTATCAACGCAGAGTGGCCATTACGGCCGGGATTGATGATG\n",
      "\n",
      "TAGAGGCCGAGGCGGCCGACATGTTTGTTTN\n",
      "\n",
      "AAGCAGTGGTATCAACGCAGAGTGGCCATTACGGGAGCACAGCAAAG\n",
      "\n",
      "GTCGGTGGGCAGAAGGAGGACAAAGGTTTTGACATGGCTGATGTCCTGTCCATGGGAGGTGGGAAGTGGGAGGACAGTGGAGCTGGAATTGGGAAAGCTCTGAGTGGACTGTTTGACTAGAAAAGCGCAGACCTCAAGCTCTTCCACAACTTGTTAAAAGGACAACTGTATGTGTACAACTGTCATTCCATGAAATAAAGCGACAAAAACAAAAG\n",
      "\n",
      "TGGCCACTCTGCGTTGATACCACTGCTTCCCGGCCGTAATGGCCACTCTGCGTTGATACCACTGCTT\n",
      "\n",
      "AAGCAGTGGTATCAACGCAGAGTGGCCATTACGGCCGGGATGTC\n",
      "\n",
      "CGGCCGGAAGGAATGCTTGTGCCCCAAGAAGAGATACAAT\n",
      "\n"
     ]
    }
   ],
   "source": [
    "file_828 = \"SRR849828.fastq\"\n",
    "file_968 = \"SRR849968.fastq\"\n",
    "\n",
    "seq_counter_828 = 0\n",
    "seq_counter_968 = 0\n",
    "\n",
    "with open (file_828) as fh1:\n",
    "        #get total line number from file \n",
    "        print(f\"first 10 seq of file 828:\")\n",
    "        for indexnum, contents in enumerate(fh1): #this asigns the index location to indexnum and the actual score to contents\n",
    "            # print(indexnum)\n",
    "            # print(contents)\n",
    "            if (indexnum)%4 == 1: # grab seq\n",
    "                seq_counter_828 +=1\n",
    "                if seq_counter_828 < 11:\n",
    "                    print(contents) # print first 10 seq \n",
    "                elif seq_counter_828 >= 11:\n",
    "                    break\n",
    "\n",
    "\n",
    "with open (file_968) as fh1:\n",
    "        #get total line number from file \n",
    "        print(f\"first 10 seq of file 968:\")\n",
    "        for indexnum, contents in enumerate(fh1): #this asigns the index location to indexnum and the actual score to contents\n",
    "            # print(indexnum)\n",
    "            # print(contents)\n",
    "            if (indexnum)%4 == 1: # grab seq\n",
    "                seq_counter_968 +=1\n",
    "                if seq_counter_968 < 11:\n",
    "                    print(contents)\n",
    "                elif seq_counter_968 >= 11:\n",
    "                    break\n",
    "                    "
   ]
  },
  {
   "cell_type": "code",
   "execution_count": null,
   "metadata": {},
   "outputs": [],
   "source": [
    "File 828 most likely match: \n",
    "PREDICTED: Syngnathus scovelli ribosomal protein S27a (rps27a), mRNA \n",
    "\n",
    "File 968 most likely match: \n",
    "PREDICTED: Syngnathus typhle uncharacterized LOC133158031 (LOC133158031), transcript variant X3, mRNA\n",
    "\n",
    "BUT: \n",
    "PREDICTED: Syngnathus scovelli uncharacterized LOC125978158 (LOC125978158), transcript variant X3, mRNA\n",
    "\n",
    "is only .4% less likely and is the same species as file 828 so that is my best guess at the species in this fastq"
   ]
  },
  {
   "cell_type": "markdown",
   "metadata": {},
   "source": [
    "### Ensembl\n",
    "\n",
    "1. Explore basic information on Ensembl for the following genomes: yeast, C. elegans, green spotted puffer (aka Tetraodon), and human. Download the protein sequence .fasta files for each. Do different isoforms appear to be included in each file?"
   ]
  },
  {
   "cell_type": "code",
   "execution_count": null,
   "metadata": {},
   "outputs": [],
   "source": [
    "to get fasta files: \n",
    "```\n",
    "wget https://ftp.ensembl.org/pub/release-112/fasta/caenorhabditis_elegans/pep/Caenorhabditis_elegans.WBcel235.pep.all.fa.gz\n",
    "wget https://ftp.ensembl.org/pub/release-112/fasta/homo_sapiens/pep/Homo_sapiens.GRCh38.pep.all.fa.gz\n",
    "wget https://ftp.ensembl.org/pub/release-112/fasta/tetraodon_nigroviridis/pep/Tetraodon_nigroviridis.TETRAODON8.pep.all.fa.gz\n",
    "wget https://ftp.ensembl.org/pub/release-112/fasta/saccharomyces_cerevisiae/pep/Saccharomyces_cerevisiae.R64-1-1.pep.all.fa.gz\n",
    "```"
   ]
  },
  {
   "cell_type": "code",
   "execution_count": 21,
   "metadata": {},
   "outputs": [
    {
     "name": "stdout",
     "output_type": "stream",
     "text": [
      "C. Elegans\n",
      "31865\n",
      "19985\n",
      "Tetraodon\n",
      "23118\n",
      "19602\n",
      "Human\n",
      "123495\n",
      "23837\n",
      "Yeast\n",
      "6600\n",
      "6600\n"
     ]
    }
   ],
   "source": [
    "%%bash\n",
    "echo \"C. Elegans\"\n",
    "#find total number of protein sequences\n",
    "zcat Caenorhabditis_elegans.WBcel235.pep.all.fa.gz | grep '^>' | wc -l\n",
    "#Find number of unique gene ID\n",
    "zcat Caenorhabditis_elegans.WBcel235.pep.all.fa.gz | grep '^>' | cut -d ' ' -f 4 | uniq -c | wc -l\n",
    "#because the number of unique genes is less then the number of peptides in the file there DOES apear to be isoforms in c. elegans \n",
    "\n",
    "echo \"Tetraodon\"\n",
    "#find total number of protein sequences\n",
    "zcat Tetraodon_nigroviridis.TETRAODON8.pep.all.fa.gz | grep '^>' | wc -l\n",
    "#find total number of unique gene id\n",
    "zcat Tetraodon_nigroviridis.TETRAODON8.pep.all.fa.gz | grep '^>' | cut -d ' ' -f 4 | uniq -c | wc -l\n",
    "#because the number of unique genes is less then the number of peptides in the file there DOES apear to be isoforms \n",
    "\n",
    "echo \"Human\"\n",
    "#find total number of protein sequences\n",
    "zcat Homo_sapiens.GRCh38.pep.all.fa.gz | grep '^>' | wc -l\n",
    "#total number of unique gene id \n",
    "zcat Homo_sapiens.GRCh38.pep.all.fa.gz | grep '^>' | cut -d ' ' -f 4 | uniq -c | wc -l\n",
    "#because the number of unique genes is less then the number of peptides in the file there DOES apear to be isoforms in c. elegans \n",
    "\n",
    "echo \"Yeast\"\n",
    "#find total number of protein sequences\n",
    "zcat Saccharomyces_cerevisiae.R64-1-1.pep.all.fa.gz | grep '^>' | wc -l\n",
    "#total number of unique gene id \n",
    "zcat Saccharomyces_cerevisiae.R64-1-1.pep.all.fa.gz | grep '^>' | cut -d ' ' -f 4 | uniq -c | wc -l\n",
    "# nymber of uniqu genes = number of peptides so NO ISOFORMS "
   ]
  },
  {
   "cell_type": "markdown",
   "metadata": {},
   "source": [
    "2. What is the density of annotated coding genes (number of genes per genome assembly megabase) for each genome? "
   ]
  },
  {
   "cell_type": "markdown",
   "metadata": {},
   "source": [
    "coding genes / genome length (megabases) \n",
    "\n",
    "Human : \\\n",
    "genome length: \\\n",
    "3,099,750,718 \\\n",
    "3,099.750718mb\\\n",
    "coding genes (calculated above): 23837\\\n",
    " 23837/3,099.750718mb = 7.6899737129 coding genes/megabase\n",
    "\n",
    "C.elegans : \\\n",
    "Genome length : 100,286,401\\\n",
    "100.2864401mb \\\n",
    "coding genes (calculated above) : 19985\\\n",
    "19985/ 100.2864401mb = 199.2789780253 genes/megabase \n",
    "\n",
    "Saccharomyces Cerevisiae (yeast) : \\\n",
    "genome length: 12,157,105\\\n",
    "12.157105mb \\\n",
    "coding genes (calculated above) : 6600\\\n",
    "6600/12.157105mb = 542.8924073618 coding genes/mb\n",
    "\n",
    "Tetraodon: \\\n",
    "genome length: 358,618,246 \\\n",
    "358.618246mb \\\n",
    "coding genes (calculated above) : 19602\\\n",
    "19602/358.618246mb  = 54.6597955309 coding genes / mb\n",
    "\n",
    "\n"
   ]
  },
  {
   "cell_type": "markdown",
   "metadata": {},
   "source": [
    "3. Visualize the distribution of protein lengths (including all isoforms when present), and apply it to each of the 4 .fasta.gz protein files. Use matplotlib."
   ]
  },
  {
   "cell_type": "code",
   "execution_count": 1,
   "metadata": {},
   "outputs": [
    {
     "data": {
      "text/plain": [
       "()"
      ]
     },
     "execution_count": 1,
     "metadata": {},
     "output_type": "execute_result"
    }
   ],
   "source": [
    "#need to make a one-line fasta from all of them\n",
    "#use oneline fasta from bioinfo\n",
    "import bioinfo\n",
    "# import gzip\n",
    "\n",
    "human = \"Homo_sapiens.GRCh38.pep.all.fa\"\n",
    "elegans = \"Caenorhabditis_elegans.WBcel235.pep.all.fa\"\n",
    "yeast = \"Saccharomyces_cerevisiae.R64-1-1.pep.all.fa\"\n",
    "tetraodon = \"Tetraodon_nigroviridis.TETRAODON8.pep.all.fa\"\n",
    "\n",
    "bioinfo.oneline_fasta(human)\n",
    "bioinfo.oneline_fasta(elegans)\n",
    "bioinfo.oneline_fasta(tetraodon)\n",
    "bioinfo.oneline_fasta(yeast)"
   ]
  },
  {
   "cell_type": "code",
   "execution_count": 19,
   "metadata": {},
   "outputs": [
    {
     "data": {
      "image/png": "[encoded data removed]",
      "text/plain": [
       "<Figure size 640x480 with 1 Axes>"
      ]
     },
     "metadata": {},
     "output_type": "display_data"
    },
    {
     "data": {
      "image/png": "[encoded data removed]",
      "text/plain": [
       "<Figure size 640x480 with 1 Axes>"
      ]
     },
     "metadata": {},
     "output_type": "display_data"
    },
    {
     "data": {
      "image/png": "[encoded data removed]",
      "text/plain": [
       "<Figure size 640x480 with 1 Axes>"
      ]
     },
     "metadata": {},
     "output_type": "display_data"
    },
    {
     "data": {
      "image/png": "[encoded data removed]",
      "text/plain": [
       "<Figure size 640x480 with 1 Axes>"
      ]
     },
     "metadata": {},
     "output_type": "display_data"
    }
   ],
   "source": [
    "import matplotlib.pyplot as plt\n",
    "import numpy as np  \n",
    "\n",
    "\n",
    "human = \"Homo_sapiens.GRCh38.pep.all.faone_line.fa\"\n",
    "elegans = \"Caenorhabditis_elegans.WBcel235.pep.all.faone_line.fa\"\n",
    "yeast = \"Saccharomyces_cerevisiae.R64-1-1.pep.all.faone_line.fa\"\n",
    "tetraodon = \"Tetraodon_nigroviridis.TETRAODON8.pep.all.faone_line.fa\"\n",
    "\n",
    "\n",
    "human_lengths = []\n",
    "elegans_lengths = []\n",
    "yeast_lengths = []\n",
    "tetraoden_lengths = []\n",
    "\n",
    "with open (human) as fh1:\n",
    "        for indexnum, contents in enumerate(fh1): #this asigns the index location to indexnum and the actual score to contents\n",
    "            if contents[0] != \">\": #grab seq (if it doesnt start w >)\n",
    "                human_lengths.append(len(contents))\n",
    "\n",
    "with open (elegans) as fh1:\n",
    "        for indexnum, contents in enumerate(fh1): #this asigns the index location to indexnum and the actual score to contents\n",
    "            if contents[0] != \">\": #grab seq (if it doesnt start w >)\n",
    "                elegans_lengths.append(len(contents))\n",
    "\n",
    "with open (yeast) as fh1:\n",
    "        for indexnum, contents in enumerate(fh1): #this asigns the index location to indexnum and the actual score to contents\n",
    "            if contents[0] != \">\": #grab seq (if it doesnt start w >)\n",
    "                yeast_lengths.append(len(contents))\n",
    "\n",
    "with open (tetraodon) as fh1:\n",
    "        for indexnum, contents in enumerate(fh1): #this asigns the index location to indexnum and the actual score to contents\n",
    "            if contents[0] != \">\": #grab seq (if it doesnt start w >)\n",
    "                tetraoden_lengths.append(len(contents))\n",
    "\n",
    "\n",
    "plt.hist(human_lengths, bins=100)\n",
    "plt.xlabel('Frequency')\n",
    "plt.ylabel('Sequence Length')\n",
    "plt.show()\n",
    "plt.hist(elegans_lengths, bins=100)\n",
    "plt.show()\n",
    "plt.hist(yeast_lengths, bins=100)\n",
    "plt.show()\n",
    "plt.hist(tetraoden_lengths, bins=100)\n",
    "plt.show()"
   ]
  },
  {
   "cell_type": "markdown",
   "metadata": {},
   "source": [
    "### Database Exploration\n",
    "\n",
    "1. Visit https://ngdc.cncb.ac.cn/databasecommons/ and find two databases - one with more than 500 citations and one with less than 500 citations. Report the names of the databases."
   ]
  },
  {
   "cell_type": "markdown",
   "metadata": {},
   "source": [
    "2. Go to the database explanation card (for example https://ngdc.cncb.ac.cn/databasecommons/database/id/1802). For your specific examples, what kind of data is in this database? What countries are they from? How recently were they updated?"
   ]
  },
  {
   "cell_type": "markdown",
   "metadata": {},
   "source": [
    "3. Visit the databases. How trustworthy do they seem? How do you gauge trustworthiness/reliability of the data? "
   ]
  }
 ],
 "metadata": {
  "kernelspec": {
   "display_name": "Python 3 (ipykernel)",
   "language": "python",
   "name": "python3"
  },
  "language_info": {
   "codemirror_mode": {
    "name": "ipython",
    "version": 3
   },
   "file_extension": ".py",
   "mimetype": "text/x-python",
   "name": "python",
   "nbconvert_exporter": "python",
   "pygments_lexer": "ipython3",
   "version": "3.12.3"
  }
 },
 "nbformat": 4,
 "nbformat_minor": 4
}
